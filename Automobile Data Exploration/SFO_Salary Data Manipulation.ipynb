{
 "cells": [
  {
   "cell_type": "code",
   "execution_count": 1,
   "metadata": {},
   "outputs": [],
   "source": [
    "import pandas as pd\n",
    "import matplotlib.pyplot as plt\n",
    "import numpy as np\n",
    "import seaborn as sns\n",
    "%matplotlib inline"
   ]
  },
  {
   "cell_type": "code",
   "execution_count": 3,
   "metadata": {},
   "outputs": [],
   "source": [
    "df_salary = pd.read_csv(\"Salaries.csv\",index_col=0)"
   ]
  },
  {
   "cell_type": "code",
   "execution_count": 4,
   "metadata": {},
   "outputs": [
    {
     "data": {
      "text/html": [
       "<div>\n",
       "<style scoped>\n",
       "    .dataframe tbody tr th:only-of-type {\n",
       "        vertical-align: middle;\n",
       "    }\n",
       "\n",
       "    .dataframe tbody tr th {\n",
       "        vertical-align: top;\n",
       "    }\n",
       "\n",
       "    .dataframe thead th {\n",
       "        text-align: right;\n",
       "    }\n",
       "</style>\n",
       "<table border=\"1\" class=\"dataframe\">\n",
       "  <thead>\n",
       "    <tr style=\"text-align: right;\">\n",
       "      <th></th>\n",
       "      <th>EmployeeName</th>\n",
       "      <th>JobTitle</th>\n",
       "      <th>BasePay</th>\n",
       "      <th>OvertimePay</th>\n",
       "      <th>OtherPay</th>\n",
       "      <th>Benefits</th>\n",
       "      <th>TotalPay</th>\n",
       "      <th>TotalPayBenefits</th>\n",
       "      <th>Year</th>\n",
       "      <th>Notes</th>\n",
       "      <th>Agency</th>\n",
       "      <th>Status</th>\n",
       "    </tr>\n",
       "    <tr>\n",
       "      <th>Id</th>\n",
       "      <th></th>\n",
       "      <th></th>\n",
       "      <th></th>\n",
       "      <th></th>\n",
       "      <th></th>\n",
       "      <th></th>\n",
       "      <th></th>\n",
       "      <th></th>\n",
       "      <th></th>\n",
       "      <th></th>\n",
       "      <th></th>\n",
       "      <th></th>\n",
       "    </tr>\n",
       "  </thead>\n",
       "  <tbody>\n",
       "    <tr>\n",
       "      <th>1</th>\n",
       "      <td>NATHANIEL FORD</td>\n",
       "      <td>GENERAL MANAGER-METROPOLITAN TRANSIT AUTHORITY</td>\n",
       "      <td>167411.18</td>\n",
       "      <td>0.00</td>\n",
       "      <td>400184.25</td>\n",
       "      <td>NaN</td>\n",
       "      <td>567595.43</td>\n",
       "      <td>567595.43</td>\n",
       "      <td>2011</td>\n",
       "      <td>NaN</td>\n",
       "      <td>San Francisco</td>\n",
       "      <td>NaN</td>\n",
       "    </tr>\n",
       "    <tr>\n",
       "      <th>2</th>\n",
       "      <td>GARY JIMENEZ</td>\n",
       "      <td>CAPTAIN III (POLICE DEPARTMENT)</td>\n",
       "      <td>155966.02</td>\n",
       "      <td>245131.88</td>\n",
       "      <td>137811.38</td>\n",
       "      <td>NaN</td>\n",
       "      <td>538909.28</td>\n",
       "      <td>538909.28</td>\n",
       "      <td>2011</td>\n",
       "      <td>NaN</td>\n",
       "      <td>San Francisco</td>\n",
       "      <td>NaN</td>\n",
       "    </tr>\n",
       "    <tr>\n",
       "      <th>3</th>\n",
       "      <td>ALBERT PARDINI</td>\n",
       "      <td>CAPTAIN III (POLICE DEPARTMENT)</td>\n",
       "      <td>212739.13</td>\n",
       "      <td>106088.18</td>\n",
       "      <td>16452.60</td>\n",
       "      <td>NaN</td>\n",
       "      <td>335279.91</td>\n",
       "      <td>335279.91</td>\n",
       "      <td>2011</td>\n",
       "      <td>NaN</td>\n",
       "      <td>San Francisco</td>\n",
       "      <td>NaN</td>\n",
       "    </tr>\n",
       "    <tr>\n",
       "      <th>4</th>\n",
       "      <td>CHRISTOPHER CHONG</td>\n",
       "      <td>WIRE ROPE CABLE MAINTENANCE MECHANIC</td>\n",
       "      <td>77916.00</td>\n",
       "      <td>56120.71</td>\n",
       "      <td>198306.90</td>\n",
       "      <td>NaN</td>\n",
       "      <td>332343.61</td>\n",
       "      <td>332343.61</td>\n",
       "      <td>2011</td>\n",
       "      <td>NaN</td>\n",
       "      <td>San Francisco</td>\n",
       "      <td>NaN</td>\n",
       "    </tr>\n",
       "    <tr>\n",
       "      <th>5</th>\n",
       "      <td>PATRICK GARDNER</td>\n",
       "      <td>DEPUTY CHIEF OF DEPARTMENT,(FIRE DEPARTMENT)</td>\n",
       "      <td>134401.60</td>\n",
       "      <td>9737.00</td>\n",
       "      <td>182234.59</td>\n",
       "      <td>NaN</td>\n",
       "      <td>326373.19</td>\n",
       "      <td>326373.19</td>\n",
       "      <td>2011</td>\n",
       "      <td>NaN</td>\n",
       "      <td>San Francisco</td>\n",
       "      <td>NaN</td>\n",
       "    </tr>\n",
       "  </tbody>\n",
       "</table>\n",
       "</div>"
      ],
      "text/plain": [
       "         EmployeeName                                        JobTitle  \\\n",
       "Id                                                                      \n",
       "1      NATHANIEL FORD  GENERAL MANAGER-METROPOLITAN TRANSIT AUTHORITY   \n",
       "2        GARY JIMENEZ                 CAPTAIN III (POLICE DEPARTMENT)   \n",
       "3      ALBERT PARDINI                 CAPTAIN III (POLICE DEPARTMENT)   \n",
       "4   CHRISTOPHER CHONG            WIRE ROPE CABLE MAINTENANCE MECHANIC   \n",
       "5     PATRICK GARDNER    DEPUTY CHIEF OF DEPARTMENT,(FIRE DEPARTMENT)   \n",
       "\n",
       "      BasePay  OvertimePay   OtherPay  Benefits   TotalPay  TotalPayBenefits  \\\n",
       "Id                                                                             \n",
       "1   167411.18         0.00  400184.25       NaN  567595.43         567595.43   \n",
       "2   155966.02    245131.88  137811.38       NaN  538909.28         538909.28   \n",
       "3   212739.13    106088.18   16452.60       NaN  335279.91         335279.91   \n",
       "4    77916.00     56120.71  198306.90       NaN  332343.61         332343.61   \n",
       "5   134401.60      9737.00  182234.59       NaN  326373.19         326373.19   \n",
       "\n",
       "    Year  Notes         Agency Status  \n",
       "Id                                     \n",
       "1   2011    NaN  San Francisco    NaN  \n",
       "2   2011    NaN  San Francisco    NaN  \n",
       "3   2011    NaN  San Francisco    NaN  \n",
       "4   2011    NaN  San Francisco    NaN  \n",
       "5   2011    NaN  San Francisco    NaN  "
      ]
     },
     "execution_count": 4,
     "metadata": {},
     "output_type": "execute_result"
    }
   ],
   "source": [
    "df_salary.head()"
   ]
  },
  {
   "cell_type": "code",
   "execution_count": 5,
   "metadata": {},
   "outputs": [
    {
     "data": {
      "text/plain": [
       "(148648, 12)"
      ]
     },
     "execution_count": 5,
     "metadata": {},
     "output_type": "execute_result"
    }
   ],
   "source": [
    "df_salary.shape"
   ]
  },
  {
   "cell_type": "code",
   "execution_count": 11,
   "metadata": {},
   "outputs": [
    {
     "data": {
      "text/plain": [
       "EmployeeName        False\n",
       "JobTitle            False\n",
       "BasePay              True\n",
       "OvertimePay         False\n",
       "OtherPay            False\n",
       "Benefits             True\n",
       "TotalPay            False\n",
       "TotalPayBenefits    False\n",
       "Year                False\n",
       "Notes                True\n",
       "Agency              False\n",
       "Status               True\n",
       "dtype: bool"
      ]
     },
     "execution_count": 11,
     "metadata": {},
     "output_type": "execute_result"
    }
   ],
   "source": [
    "df_salary.isna().any()"
   ]
  },
  {
   "cell_type": "code",
   "execution_count": 12,
   "metadata": {},
   "outputs": [],
   "source": [
    "df_year = df_salary.groupby('Year').sum()['TotalPayBenefits']"
   ]
  },
  {
   "cell_type": "code",
   "execution_count": 13,
   "metadata": {},
   "outputs": [
    {
     "data": {
      "text/plain": [
       "Year\n",
       "2011    2.594113e+09\n",
       "2012    3.696790e+09\n",
       "2013    3.814772e+09\n",
       "2014    3.821866e+09\n",
       "Name: TotalPayBenefits, dtype: float64"
      ]
     },
     "execution_count": 13,
     "metadata": {},
     "output_type": "execute_result"
    }
   ],
   "source": [
    "df_year.head()\n"
   ]
  },
  {
   "cell_type": "code",
   "execution_count": 14,
   "metadata": {},
   "outputs": [
    {
     "name": "stdout",
     "output_type": "stream",
     "text": [
      "Year\n",
      "2011     71743.819645\n",
      "2012    100551.886807\n",
      "2013    101440.519714\n",
      "2014    100261.438668\n",
      "Name: TotalPayBenefits, dtype: float64\n"
     ]
    }
   ],
   "source": [
    "# Check the mean salary cost per year and see how it has increased per year\n",
    "years = df_salary.groupby('Year').mean()['TotalPayBenefits']\n",
    "print (years)"
   ]
  },
  {
   "cell_type": "code",
   "execution_count": 15,
   "metadata": {},
   "outputs": [
    {
     "name": "stdout",
     "output_type": "stream",
     "text": [
      "Profit year difference: [28808.06716185191, 888.6329073952074, -1179.0810457599146] \n",
      "\n",
      "Total profit year difference from 2012 to 2014 is  93499.41620853971\n"
     ]
    }
   ],
   "source": [
    "diff = []\n",
    "for i in range(0,3):\n",
    "    i+=1\n",
    "    d = years.values[i] - years.values[i-1]\n",
    "    diff.append(d)\n",
    "print (\"Profit year difference:\", diff , '\\n')\n",
    "print ('Total profit year difference from 2012 to 2014 is ', years.values.mean())"
   ]
  },
  {
   "cell_type": "code",
   "execution_count": 16,
   "metadata": {},
   "outputs": [
    {
     "name": "stdout",
     "output_type": "stream",
     "text": [
      "JobTitle\n",
      "Chief Investment Officer       436224.36\n",
      "Chief of Police                418019.22\n",
      "Chief, Fire Department         417435.10\n",
      "Gen Mgr, Public Trnsp Dept     379918.72\n",
      "Dep Chf of Dept (Fire Dept)    368006.35\n",
      "Name: TotalPayBenefits, dtype: float64\n",
      "\n",
      " The job title in year 2014 with the highest mean salary is Chief Investment Officer\n"
     ]
    }
   ],
   "source": [
    "#Which Job Title in Year 2014 has highest mean salary?\n",
    "\n",
    "job2014 = df_salary[df_salary['Year']==2014]\n",
    "jobtitle = job2014.groupby('JobTitle').mean()['TotalPayBenefits']\n",
    "jobtitle_high_salary = jobtitle.sort_values(ascending=False).head(5)\n",
    "print (jobtitle_high_salary)\n",
    "print (\"\\n\",\"The job title in year 2014 with the highest mean salary is\",jobtitle_high_salary.index[0])"
   ]
  },
  {
   "cell_type": "code",
   "execution_count": 17,
   "metadata": {},
   "outputs": [
    {
     "name": "stdout",
     "output_type": "stream",
     "text": [
      "Money saved in 2014 without OvertimePay would be 205918599.26999998\n"
     ]
    }
   ],
   "source": [
    "year_2014 = df_salary[df_salary['Year']==2014]\n",
    "saved = year_2014['OvertimePay'].sum()\n",
    "print (\"Money saved in 2014 without OvertimePay would be\" , saved)"
   ]
  },
  {
   "cell_type": "code",
   "execution_count": 19,
   "metadata": {},
   "outputs": [
    {
     "name": "stdout",
     "output_type": "stream",
     "text": [
      "Transit Operator                2479\n",
      "Special Nurse                   1478\n",
      "Registered Nurse                1234\n",
      "Public Svc Aide-Public Works     916\n",
      "Firefighter                      815\n",
      "Name: JobTitle, dtype: int64\n"
     ]
    }
   ],
   "source": [
    "employee_2014 = df_salary[df_salary['Year']==2014]\n",
    "profile = employee_2014['JobTitle'].value_counts()\n",
    "top_5 = profile.head(5)\n",
    "print (top_5)"
   ]
  },
  {
   "cell_type": "code",
   "execution_count": 21,
   "metadata": {},
   "outputs": [
    {
     "name": "stdout",
     "output_type": "stream",
     "text": [
      "JobTitle\n",
      "ACPO,JuvP, Juv Prob (SFERS)       80266.37\n",
      "ASR Senior Office Specialist    1925501.44\n",
      "ASR-Office Assistant            1002259.44\n",
      "Account Clerk                   5135754.45\n",
      "Accountant I                     128356.66\n",
      "Name: TotalPayBenefits, dtype: float64\n"
     ]
    }
   ],
   "source": [
    "\n",
    "\n",
    "job2014 = df_salary[df_salary['Year']==2014]\n",
    "job_2014 = job2014.groupby('JobTitle').sum()['TotalPayBenefits']\n",
    "print (job_2014.head(5))\n",
    "\n"
   ]
  },
  {
   "cell_type": "code",
   "execution_count": 22,
   "metadata": {},
   "outputs": [
    {
     "name": "stdout",
     "output_type": "stream",
     "text": [
      "Total Cost of Top 5 Jobs in Year 2014 is  610269227.6600003\n"
     ]
    }
   ],
   "source": [
    "\n",
    "\n",
    "sum = 0\n",
    "for i in top_5.index:\n",
    "    frame = job_2014[(job_2014.index)==i]\n",
    "    sum = frame.values.sum() + sum\n",
    "print ('Total Cost of Top 5 Jobs in Year 2014 is ', sum)\n",
    "\n"
   ]
  },
  {
   "cell_type": "code",
   "execution_count": 24,
   "metadata": {},
   "outputs": [
    {
     "name": "stdout",
     "output_type": "stream",
     "text": [
      "EmployeeName\n",
      "Kevin Lee           1778487.17\n",
      "Steven Lee          1706550.76\n",
      "William Wong        1459954.17\n",
      "Stanley Lee         1457279.68\n",
      "Richard Lee         1268668.84\n",
      "                       ...    \n",
      "Mark W Mcclure            0.00\n",
      "Timothy E Gibson         -2.73\n",
      "Mark E Laherty           -8.20\n",
      "David P Kucia           -33.89\n",
      "Joe Lopez              -618.13\n",
      "Name: TotalPayBenefits, Length: 110809, dtype: float64\n"
     ]
    }
   ],
   "source": [
    "#Who was the top earning employee across all the years?\n",
    "\n",
    "top_earning = df_salary.groupby('EmployeeName').sum()['TotalPayBenefits']\n",
    "print (top_earning.sort_values(ascending=False))\n",
    "\n",
    "#Kevin Lee earned the highest across all the years. "
   ]
  },
  {
   "cell_type": "code",
   "execution_count": null,
   "metadata": {},
   "outputs": [],
   "source": []
  }
 ],
 "metadata": {
  "kernelspec": {
   "display_name": "Python 3",
   "language": "python",
   "name": "python3"
  },
  "language_info": {
   "codemirror_mode": {
    "name": "ipython",
    "version": 3
   },
   "file_extension": ".py",
   "mimetype": "text/x-python",
   "name": "python",
   "nbconvert_exporter": "python",
   "pygments_lexer": "ipython3",
   "version": "3.7.6"
  }
 },
 "nbformat": 4,
 "nbformat_minor": 4
}
